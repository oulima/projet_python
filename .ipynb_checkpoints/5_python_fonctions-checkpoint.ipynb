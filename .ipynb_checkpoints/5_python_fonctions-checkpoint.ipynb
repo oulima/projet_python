{
 "cells": [
  {
   "cell_type": "markdown",
   "metadata": {},
   "source": [
    "# Les fonctions"
   ]
  },
  {
   "cell_type": "markdown",
   "metadata": {},
   "source": [
    "Une fonction (ou function ) est une suite d'instructions que l'on peut appeler avec un nom.\n",
    "\n",
    "En gros, vous ecrivez une fois le code nécessaire à la réalisation du fonctionnel, et vous pourrez l'utilisez tout le temps."
   ]
  },
  {
   "cell_type": "markdown",
   "metadata": {},
   "source": [
    "Créons une fonction qui renvoi 'Je m'appelle' "
   ]
  },
  {
   "cell_type": "code",
   "execution_count": 1,
   "metadata": {},
   "outputs": [],
   "source": [
    "def allo():\n",
    "    return \"3\";"
   ]
  },
  {
   "cell_type": "code",
   "execution_count": 2,
   "metadata": {},
   "outputs": [
    {
     "data": {
      "text/plain": [
       "'3'"
      ]
     },
     "execution_count": 2,
     "metadata": {},
     "output_type": "execute_result"
    }
   ],
   "source": [
    "# J'appelle ma fonction comme cela\n",
    "allo()"
   ]
  },
  {
   "cell_type": "code",
   "execution_count": 3,
   "metadata": {},
   "outputs": [
    {
     "data": {
      "text/plain": [
       "'3 Richard'"
      ]
     },
     "execution_count": 3,
     "metadata": {},
     "output_type": "execute_result"
    }
   ],
   "source": [
    "# Nous pouvons appeller un fonction et lui associer un autre élément \n",
    "allo()+' Richard'"
   ]
  },
  {
   "cell_type": "markdown",
   "metadata": {},
   "source": [
    "Maintenant, nous allons ajouter un paramètre à cette fonction. C'est à dire une information qui va etre utilisée par la fonction pour faire quelque chose d'encore plus sympa."
   ]
  },
  {
   "cell_type": "code",
   "execution_count": 1,
   "metadata": {},
   "outputs": [],
   "source": [
    "def allo(x):\n",
    "    return \"Allo {}\".format(x);"
   ]
  },
  {
   "cell_type": "code",
   "execution_count": 5,
   "metadata": {},
   "outputs": [
    {
     "data": {
      "text/plain": [
       "'Allo Richard'"
      ]
     },
     "execution_count": 5,
     "metadata": {},
     "output_type": "execute_result"
    }
   ],
   "source": [
    "# Cette fois ci pour appeller cette fonction vous devez ajouter dans la parenthese un paramètre \n",
    "p='Richard'\n",
    "allo(p)"
   ]
  },
  {
   "cell_type": "markdown",
   "metadata": {},
   "source": [
    "Amusez vous à changer la valeur du paramètre de la fonction ou meme à changer la fonction"
   ]
  },
  {
   "cell_type": "code",
   "execution_count": null,
   "metadata": {},
   "outputs": [],
   "source": []
  },
  {
   "cell_type": "markdown",
   "metadata": {},
   "source": [
    "Vous pouvez faire une petite boucle sur la liste des apprenants et afficher leur presentation"
   ]
  },
  {
   "cell_type": "code",
   "execution_count": 6,
   "metadata": {},
   "outputs": [
    {
     "name": "stdout",
     "output_type": "stream",
     "text": [
      "Allo Steven\n",
      "Allo Oumar\n",
      "Allo Zak\n",
      "Allo Fred\n",
      "Allo David\n",
      "Allo Marianna\n",
      "Allo Myriam\n",
      "Allo Lochlean\n"
     ]
    }
   ],
   "source": [
    "l=['Steven','Oumar','Zak','Fred','David','Marianna','Myriam','Lochlean']\n",
    "\n",
    "for element in l:\n",
    "    print()"
   ]
  },
  {
   "cell_type": "markdown",
   "metadata": {},
   "source": [
    "Et maintenant avec deux parametres"
   ]
  },
  {
   "cell_type": "code",
   "execution_count": 7,
   "metadata": {},
   "outputs": [],
   "source": [
    "def allo(prenom,nom):\n",
    "    \n",
    "    \n",
    "    return "
   ]
  },
  {
   "cell_type": "code",
   "execution_count": 9,
   "metadata": {},
   "outputs": [
    {
     "data": {
      "text/plain": [
       "\"Je m'appelle Dav Az\""
      ]
     },
     "execution_count": 9,
     "metadata": {},
     "output_type": "execute_result"
    }
   ],
   "source": [
    "p='Dav'\n",
    "n=\"Az\"\n",
    "allo(p,n)"
   ]
  },
  {
   "cell_type": "markdown",
   "metadata": {},
   "source": [
    "Et dans une boucle, c'est encore mieux. Vous preferez le \"papier et crayon\" ?"
   ]
  },
  {
   "cell_type": "code",
   "execution_count": 12,
   "metadata": {},
   "outputs": [
    {
     "name": "stdout",
     "output_type": "stream",
     "text": [
      "0 Je m'appelle Steven DFGD\n",
      "1 Je m'appelle Oumar dfdg\n",
      "2 Je m'appelle Zak dfhdh\n",
      "3 Je m'appelle Fred yiyiy\n",
      "4 Je m'appelle David sggg\n"
     ]
    }
   ],
   "source": [
    "l=['Steven','Oumar','Zak','Fred','David','Marianna','Myriam','Lochlean']\n",
    "# Je vous laisse completer pour les noms\n",
    "n=['DFGD','dfdg','dfhdh','yiyiy','sggg','yutii','fwxhfh','mjolhk']\n",
    "\n",
    "# Comme les listes ont les memes longueurs, je fais une boucle plus un iterateur (i) pour la seconde liste\n",
    "long=len(n)\n",
    "for i in range(5):\n",
    "    print(i,allo(l[i],n[i]))\n"
   ]
  },
  {
   "cell_type": "markdown",
   "metadata": {},
   "source": [
    "Reprenez le dictionnaire que vous aviez réalisé à la fin du 4_python et automatisez là par une fonction.\n",
    "\n",
    "Votre fonction prendra en paramètre un nom et retournera sa defintion\n",
    "\n",
    "dictionnaire('manger')='Avaler pour se nourrir (un aliment solide ou consistant) après avoir mâché.'"
   ]
  },
  {
   "cell_type": "code",
   "execution_count": null,
   "metadata": {},
   "outputs": [],
   "source": []
  },
  {
   "cell_type": "markdown",
   "metadata": {},
   "source": [
    "Entrainez vous à créer des fonctions avec les morceaux de code déjà redigés des notebooks précédents"
   ]
  },
  {
   "cell_type": "code",
   "execution_count": null,
   "metadata": {},
   "outputs": [],
   "source": []
  },
  {
   "cell_type": "markdown",
   "metadata": {},
   "source": [
    "# Fonction avec parmètre dont le nombre est inconnu"
   ]
  },
  {
   "cell_type": "markdown",
   "metadata": {},
   "source": [
    "L'opérateur splat : * est très souvent utilisé en python.\n",
    "\n",
    "def ma_function(*var)\n",
    "\n",
    "def ma_function(**var)\n",
    "\n",
    "Et pour l'appeller:\n",
    "\n",
    "ma_function(*var)\n",
    "\n",
    "ma_function(**var)\n"
   ]
  },
  {
   "cell_type": "markdown",
   "metadata": {},
   "source": [
    "On peut récupérer les valeurs renseignées via une liste:"
   ]
  },
  {
   "cell_type": "code",
   "execution_count": 1,
   "metadata": {},
   "outputs": [],
   "source": [
    "def allo(*param):\n",
    "    return \"Je m'appelle {} {} \".format(param[0],param[1]);"
   ]
  },
  {
   "cell_type": "code",
   "execution_count": 2,
   "metadata": {},
   "outputs": [
    {
     "data": {
      "text/plain": [
       "\"Je m'appelle David Azria \""
      ]
     },
     "execution_count": 2,
     "metadata": {},
     "output_type": "execute_result"
    }
   ],
   "source": [
    "allo('David','Azria','fgd','dssgsg','ggsdg')"
   ]
  },
  {
   "cell_type": "code",
   "execution_count": 5,
   "metadata": {},
   "outputs": [
    {
     "name": "stdout",
     "output_type": "stream",
     "text": [
      "Je m'appelle Steven DFGD \n",
      "Je m'appelle Oumar dfdg \n",
      "Je m'appelle Zak dfhdh \n",
      "Je m'appelle Fred yiyiy \n",
      "Je m'appelle David David \n",
      "Je m'appelle Marianna Marianna \n",
      "Je m'appelle Myriam Myriam \n",
      "Je m'appelle Lochlean Lochlean \n"
     ]
    }
   ],
   "source": [
    "l=['Steven','Oumar','Zak','Fred','David','Marianna','Myriam','Lochlean']\n",
    "# Je vous laisse completer pour les noms\n",
    "n=['DFGD','dfdg','dfhdh','yiyiy','David','Marianna','Myriam','Lochlean']\n",
    "\n",
    "i=0\n",
    "for element in l:\n",
    "    print(allo(element,n[i]))\n",
    "    i=i+1"
   ]
  },
  {
   "cell_type": "markdown",
   "metadata": {},
   "source": [
    "Si vous désirez rendre obligatoire uniquement certains paramètres, vous pouvez utiliser la syntaxe suivante:"
   ]
  },
  {
   "cell_type": "code",
   "execution_count": 8,
   "metadata": {},
   "outputs": [],
   "source": [
    "def allo(prenom,nom,*pa):\n",
    "    return \"Je m'appelle {} {} {}\".format(prenom,nom,pa[0]);"
   ]
  },
  {
   "cell_type": "code",
   "execution_count": 9,
   "metadata": {},
   "outputs": [
    {
     "data": {
      "text/plain": [
       "\"Je m'appelle David Azria Paul\""
      ]
     },
     "execution_count": 9,
     "metadata": {},
     "output_type": "execute_result"
    }
   ],
   "source": [
    "allo('David','Azria','Paul','Bismuth','Jacques','Diderot')"
   ]
  },
  {
   "cell_type": "markdown",
   "metadata": {},
   "source": [
    "Mettons en fonction notre dictionnaire créer au précédent notebook"
   ]
  },
  {
   "cell_type": "code",
   "execution_count": 10,
   "metadata": {},
   "outputs": [],
   "source": [
    "\n"
   ]
  },
  {
   "cell_type": "code",
   "execution_count": 13,
   "metadata": {},
   "outputs": [],
   "source": [
    "\n",
    "    "
   ]
  },
  {
   "cell_type": "code",
   "execution_count": 14,
   "metadata": {},
   "outputs": [
    {
     "data": {
      "text/plain": [
       "'verbemâcher et avaler un aliment dans le but de se nourrir (intransitif) (par extension) prendre un repas (figuré) consumer en absorbant en rongeant en minant en détruisant d’autres choses en parlant des choses (figuré) consumer dissiper en folles dépenses.\\n'"
      ]
     },
     "execution_count": 14,
     "metadata": {},
     "output_type": "execute_result"
    }
   ],
   "source": [
    "definition('manger',dico)"
   ]
  },
  {
   "cell_type": "markdown",
   "metadata": {},
   "source": [
    "Pouvez vous me créer un fichier contenant la série de définition des mots suivants:\n",
    "m=['bonjour','salut','appel','voiture','ordinateur','constitution','informatique']"
   ]
  },
  {
   "cell_type": "code",
   "execution_count": 18,
   "metadata": {},
   "outputs": [],
   "source": [
    "# Exemple pour un élément \n",
    "\n",
    "mot='boire'\n",
    "defi=dico[mot]\n",
    "# la parametre 'a' de open signifie que vous complétez un fichier s'il existe. \n",
    "# Sinon 'w' crée un nouveau fichier definition.txt en ecrasant un eventuel ancien \n",
    "f = open('definition.txt','w')\n",
    "f.write(mot+' : '+defi)\n",
    "f.close()\n",
    "# Retrouvez ce fichier dans le repertoire dans lequel est enregistré ce notebook"
   ]
  },
  {
   "cell_type": "code",
   "execution_count": 25,
   "metadata": {},
   "outputs": [],
   "source": [
    "m=['sport','salut','appel','voiture','ordinateur','constitution','informatique']\n",
    "\n"
   ]
  },
  {
   "cell_type": "code",
   "execution_count": null,
   "metadata": {},
   "outputs": [],
   "source": []
  }
 ],
 "metadata": {
  "kernelspec": {
   "display_name": "Python 3",
   "language": "python",
   "name": "python3"
  },
  "language_info": {
   "codemirror_mode": {
    "name": "ipython",
    "version": 3
   },
   "file_extension": ".py",
   "mimetype": "text/x-python",
   "name": "python",
   "nbconvert_exporter": "python",
   "pygments_lexer": "ipython3",
   "version": "3.7.6"
  }
 },
 "nbformat": 4,
 "nbformat_minor": 2
}
