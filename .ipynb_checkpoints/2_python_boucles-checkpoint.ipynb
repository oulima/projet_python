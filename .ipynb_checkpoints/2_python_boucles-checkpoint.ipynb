{
 "cells": [
  {
   "cell_type": "markdown",
   "metadata": {},
   "source": [
    "# Les boucles for et while "
   ]
  },
  {
   "cell_type": "markdown",
   "metadata": {},
   "source": [
    "Une boucle ( ou loop ) vous permet de répéter à l'infini des instructions selon vos besoins."
   ]
  },
  {
   "cell_type": "markdown",
   "metadata": {},
   "source": [
    "Reprenons le precedent exo\n",
    "\n",
    "Ajouter un deuxieme prenom à rechercher. Ce sera bien vous si l'une ou l'autre valeur de vos deux variables de recherche est trouvée. \n",
    "\n",
    "Utilisez un \"or\" avec une deuxieme condition par exemple :\n",
    "elem == prenom1 or elem == prenom2"
   ]
  },
  {
   "cell_type": "code",
   "execution_count": null,
   "metadata": {},
   "outputs": [],
   "source": []
  },
  {
   "cell_type": "markdown",
   "metadata": {},
   "source": [
    "Comme vous l'avez vu, la boucle \"for\" permet de faire des itérations sur un élément, comme une chaine de caractères par exemple ou une liste ."
   ]
  },
  {
   "cell_type": "code",
   "execution_count": 2,
   "metadata": {},
   "outputs": [
    {
     "name": "stdout",
     "output_type": "stream",
     "text": [
      "Je\n",
      "#########################################\n",
      "m\n",
      "#########################################\n",
      "appelle\n",
      "#########################################\n",
      "Kamel\n",
      "#########################################\n"
     ]
    }
   ],
   "source": [
    "bonbon = \"Je m appelle Kamel\".split(' ')\n",
    "for let in bonbon:\n",
    "    print(let)\n",
    "    print('#########################################')\n"
   ]
  },
  {
   "cell_type": "markdown",
   "metadata": {},
   "source": [
    "Comment pourrait on faire une itération sur nos 10 chiffres arabes ? \n",
    "\n",
    "On pourrait commencer comme ça ?\n",
    "\n",
    "Terminez le bloc suivant"
   ]
  },
  {
   "cell_type": "code",
   "execution_count": 3,
   "metadata": {},
   "outputs": [
    {
     "name": "stdout",
     "output_type": "stream",
     "text": [
      "0\n",
      "1\n",
      "2\n",
      "3\n",
      "4\n",
      "5\n",
      "6\n",
      "7\n",
      "8\n",
      "9\n"
     ]
    }
   ],
   "source": [
    "# avec une chaine de caractere : string\n",
    "v=\"0123456789\"\n",
    "# ou avec une liste d'entier, int\n",
    "x=[0,1,2,3,4,5,6,7,8,9]\n",
    "\n",
    "\n",
    "\n",
    "\n",
    "\n",
    "\n",
    "\n",
    "\n"
   ]
  },
  {
   "cell_type": "code",
   "execution_count": 4,
   "metadata": {},
   "outputs": [
    {
     "name": "stdout",
     "output_type": "stream",
     "text": [
      "0\n",
      "1\n",
      "2\n",
      "3\n",
      "4\n",
      "5\n",
      "6\n",
      "7\n",
      "8\n",
      "9\n"
     ]
    }
   ],
   "source": [
    "# ou en faisant une itération sur une varaible i=0 puis dans la boucle i=i+1\n",
    "# ou en utilisant range(0,10) essayer d'ailleurs cette instruction?\n",
    "\n",
    "for chiffre in range(0,10):\n",
    "    print (chiffre)"
   ]
  },
  {
   "cell_type": "markdown",
   "metadata": {},
   "source": [
    "En anglais \" while \" signifie \"Tant que\". Pour créer une boucle , il faut donc utiliser ce mot clé suivi d'une indication qui dit quand la boucle s'arrête.\n",
    "\n",
    "Un exemple sera plus parlant:\n",
    "\n",
    "On désire écrire 100 fois cette phrase:\n",
    "\n",
    "\" Je dois laisser ma place assise aux personnes agées \"\n",
    "\n",
    "Ecrire à la main prend beaucoup de temps et beaucoup de temps x 100 c'est vraiment beaucoup de temps, et peu fiable, même pour les chanceux qui connaissent le copier-coller. Et un bon programmeur est toujours un peu fainéant perfectionniste, il cherchera la manière la plus élégante de ne pas répéter du code."
   ]
  },
  {
   "cell_type": "code",
   "execution_count": 5,
   "metadata": {},
   "outputs": [
    {
     "name": "stdout",
     "output_type": "stream",
     "text": [
      "Je ne dois laisser ma place assise aux personnes agées  0\n",
      "Je ne dois laisser ma place assise aux personnes agées  1\n",
      "Je ne dois laisser ma place assise aux personnes agées  2\n",
      "Je ne dois laisser ma place assise aux personnes agées  3\n",
      "Je ne dois laisser ma place assise aux personnes agées  4\n",
      "Je ne dois laisser ma place assise aux personnes agées  5\n",
      "Je ne dois laisser ma place assise aux personnes agées  6\n",
      "Je ne dois laisser ma place assise aux personnes agées  7\n",
      "Je ne dois laisser ma place assise aux personnes agées  8\n",
      "Je ne dois laisser ma place assise aux personnes agées  9\n"
     ]
    }
   ],
   "source": []
  },
  {
   "cell_type": "markdown",
   "metadata": {},
   "source": [
    "#### Exemple: \n",
    "\n",
    "Trouver le moyen de sortir de cette boucle !"
   ]
  },
  {
   "cell_type": "code",
   "execution_count": null,
   "metadata": {},
   "outputs": [],
   "source": [
    "\n",
    "password='i'\n",
    "while len(password)<=8 :\n",
    "    password=input(\"enter your password: \")\n",
    "print(password)\n",
    "        "
   ]
  },
  {
   "cell_type": "markdown",
   "metadata": {},
   "source": [
    "Imaginons que nous avons un jeu video qui nous donne 200 points à chaque iteration paire\n",
    "ex i=1 ==> 0 pts i=2 ==> 200 pts\n",
    "Le jeu s'arrette quand vous avez 1000 pts\n",
    "\n",
    "On code ça avec un while : C'est parti !\n",
    "\n",
    "Help: un nombre pair a un modulo 2 = 0. C'est à dire que le reste dela division de ce nombre avec 2 est egale à 0 \n",
    "\n",
    "Et en python ca donne : nombre % 2 == 0 \n"
   ]
  },
  {
   "cell_type": "code",
   "execution_count": 9,
   "metadata": {},
   "outputs": [
    {
     "name": "stdout",
     "output_type": "stream",
     "text": [
      "1 0\n",
      "2 200\n",
      "3 200\n",
      "4 400\n",
      "5 400\n",
      "6 600\n",
      "7 600\n",
      "8 800\n",
      "9 800\n",
      "10 1000\n"
     ]
    }
   ],
   "source": [
    "\n",
    "        "
   ]
  },
  {
   "cell_type": "markdown",
   "metadata": {},
   "source": [
    "On peut faire la meme chose avec une boucle for\n",
    "Mais pour sortir de la boucle sans attendre sa fin nous pouvons utiliser break. regardez ci dess"
   ]
  },
  {
   "cell_type": "code",
   "execution_count": 10,
   "metadata": {},
   "outputs": [
    {
     "name": "stdout",
     "output_type": "stream",
     "text": [
      "2 200\n",
      "4 400\n",
      "6 600\n",
      "8 800\n",
      "10 1000\n"
     ]
    }
   ],
   "source": [
    "resultat=0\n",
    "for i in range(1,100):\n",
    "    if i%2 == 0 :\n",
    "        resultat=resultat+200\n",
    "        print(i,resultat)\n",
    "    if resultat >= 1000 :\n",
    "        break\n",
    "    #print(i, resultat)\n",
    "        "
   ]
  },
  {
   "cell_type": "markdown",
   "metadata": {},
   "source": [
    "Simulons un jeu de casino, un jeu de dé. \n",
    "Si je fais 6 je gagne 20€ et si je fais autre chose je perds 10€. Sachant que je tire 50 fois le dé, combien je gagnerai ?\n",
    "\n",
    "Je commence avec 1000 €\n",
    "\n",
    "Attention, si mon argent passe sous les 750 €, je m’arrête.\n",
    "\n",
    "Transformez un peu ce code pour en faire quelque chose de plus automatisé plus jolie ou autres ...\n"
   ]
  },
  {
   "cell_type": "code",
   "execution_count": 11,
   "metadata": {},
   "outputs": [
    {
     "data": {
      "text/plain": [
       "44.59166219472874"
      ]
     },
     "execution_count": 11,
     "metadata": {},
     "output_type": "execute_result"
    }
   ],
   "source": [
    "from random import randint\n",
    "import random\n",
    "random.uniform(0, 60)"
   ]
  },
  {
   "cell_type": "code",
   "execution_count": 30,
   "metadata": {
    "scrolled": true
   },
   "outputs": [
    {
     "name": "stdout",
     "output_type": "stream",
     "text": [
      "perdu tu as fait : 2 numero partie :  1  il te reste : 990\n",
      "perdu tu as fait : 3 numero partie :  2  il te reste : 980\n",
      "perdu tu as fait : 1 numero partie :  3  il te reste : 970\n",
      "perdu tu as fait : 5 numero partie :  4  il te reste : 960\n",
      "perdu tu as fait : 4 numero partie :  5  il te reste : 950\n",
      "perdu tu as fait : 3 numero partie :  6  il te reste : 940\n",
      "gagné tu as fait : 6 le numero de la parie est : 7 il te reste : 960\n",
      "perdu tu as fait : 5 numero partie :  8  il te reste : 950\n",
      "perdu tu as fait : 4 numero partie :  9  il te reste : 940\n",
      "perdu tu as fait : 2 numero partie :  10  il te reste : 930\n",
      "perdu tu as fait : 4 numero partie :  11  il te reste : 920\n",
      "perdu tu as fait : 3 numero partie :  12  il te reste : 910\n",
      "perdu tu as fait : 1 numero partie :  13  il te reste : 900\n",
      "perdu tu as fait : 4 numero partie :  14  il te reste : 890\n",
      "perdu tu as fait : 3 numero partie :  15  il te reste : 880\n",
      "perdu tu as fait : 1 numero partie :  16  il te reste : 870\n",
      "perdu tu as fait : 5 numero partie :  17  il te reste : 860\n",
      "perdu tu as fait : 1 numero partie :  18  il te reste : 850\n",
      "perdu tu as fait : 3 numero partie :  19  il te reste : 840\n",
      "perdu tu as fait : 3 numero partie :  20  il te reste : 830\n",
      "gagné tu as fait : 6 le numero de la parie est : 21 il te reste : 850\n",
      "perdu tu as fait : 5 numero partie :  22  il te reste : 840\n",
      "perdu tu as fait : 1 numero partie :  23  il te reste : 830\n",
      "gagné tu as fait : 6 le numero de la parie est : 24 il te reste : 850\n",
      "gagné tu as fait : 6 le numero de la parie est : 25 il te reste : 870\n",
      "perdu tu as fait : 5 numero partie :  26  il te reste : 860\n",
      "perdu tu as fait : 2 numero partie :  27  il te reste : 850\n",
      "perdu tu as fait : 4 numero partie :  28  il te reste : 840\n",
      "perdu tu as fait : 5 numero partie :  29  il te reste : 830\n",
      "perdu tu as fait : 1 numero partie :  30  il te reste : 820\n",
      "perdu tu as fait : 1 numero partie :  31  il te reste : 810\n",
      "perdu tu as fait : 2 numero partie :  32  il te reste : 800\n",
      "perdu tu as fait : 1 numero partie :  33  il te reste : 790\n",
      "perdu tu as fait : 3 numero partie :  34  il te reste : 780\n",
      "gagné tu as fait : 6 le numero de la parie est : 35 il te reste : 800\n",
      "gagné tu as fait : 6 le numero de la parie est : 36 il te reste : 820\n",
      "perdu tu as fait : 2 numero partie :  37  il te reste : 810\n",
      "perdu tu as fait : 3 numero partie :  38  il te reste : 800\n",
      "perdu tu as fait : 2 numero partie :  39  il te reste : 790\n",
      "perdu tu as fait : 3 numero partie :  40  il te reste : 780\n",
      "perdu tu as fait : 2 numero partie :  41  il te reste : 770\n",
      "perdu tu as fait : 1 numero partie :  42  il te reste : 760\n",
      "perdu tu as fait : 4 numero partie :  43  il te reste : 750\n"
     ]
    }
   ],
   "source": [
    "# Je vais chercher la fonction dandint de la librairie random\n",
    "from random import randint\n",
    "\n",
    "mon_ble=?\n",
    "num_partie=1\n",
    "\n",
    "while mon_ble > 750 and num_partie <= ? :\n",
    "    # je prends un nombre entier compris entre 1 et 6 au hasard\n",
    "    de=randint(1,6)\n",
    "    if de != 6:\n",
    "        mon_ble=mon_ble-?\n",
    "        print('perdu tu as fait :',de,\"numero partie : \", num_partie,\" il te reste :\",mon_ble)\n",
    "    else:\n",
    "        mon_ble=mon_ble+20\n",
    "        print('gagné tu as fait :',de,\"le numero de la parie est :\",num_partie,\"il te reste :\",mon_ble)\n",
    "    num_partie=num_partie+1\n",
    "    \n",
    "\n"
   ]
  },
  {
   "cell_type": "code",
   "execution_count": 32,
   "metadata": {},
   "outputs": [
    {
     "name": "stdout",
     "output_type": "stream",
     "text": [
      "j’arrête de jouer apres 43 parties, il ne me reste que 750 €\n"
     ]
    }
   ],
   "source": [
    "if mon_ble > 750:\n",
    "    print(\"Il me reste {} € apres 50 parties pas mal ...\".format(mon_ble))\n",
    "else:\n",
    "    print(\"j’arrête de jouer apres {} parties, il ne me reste que {} €\".format(num_partie-1,mon_ble))\n"
   ]
  },
  {
   "cell_type": "markdown",
   "metadata": {},
   "source": [
    "Soit la liste suivante, \n",
    "l=['Steven','Oumar','Zak','Fred','David','Marianna','Myriam','Lochlean']\n",
    "\n",
    "Pouvez vous construire un petit programme qui me compte les prenoms, un peu longs, qui ont plus de 5 caracteres.\n",
    "L'idée est d'actualiser une variable compteur à chaque fois que l'on trouve un prenom dont la longueur est superieure à 5 caracteres.\n",
    "\n",
    "nb:utilisez la fonction native len(\"xxxx\") "
   ]
  },
  {
   "cell_type": "code",
   "execution_count": null,
   "metadata": {},
   "outputs": [],
   "source": []
  },
  {
   "cell_type": "code",
   "execution_count": 34,
   "metadata": {},
   "outputs": [
    {
     "data": {
      "text/plain": [
       "(7, 5)"
      ]
     },
     "execution_count": 34,
     "metadata": {},
     "output_type": "execute_result"
    }
   ],
   "source": [
    "len('8999999'),len('david')"
   ]
  }
 ],
 "metadata": {
  "kernelspec": {
   "display_name": "Python 3",
   "language": "python",
   "name": "python3"
  },
  "language_info": {
   "codemirror_mode": {
    "name": "ipython",
    "version": 3
   },
   "file_extension": ".py",
   "mimetype": "text/x-python",
   "name": "python",
   "nbconvert_exporter": "python",
   "pygments_lexer": "ipython3",
   "version": "3.7.6"
  }
 },
 "nbformat": 4,
 "nbformat_minor": 2
}
