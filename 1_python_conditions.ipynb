{
 "cells": [
  {
   "cell_type": "markdown",
   "metadata": {},
   "source": [
    "### Notebook\n",
    "\n",
    "Cette page est constituée d'un ensemble de cellule interpretable en python.\n",
    "L'execution est independante mais la memoire (cache) est partagée (les variables crées apres execution dans une cellule sont reutilisables dans une autre)"
   ]
  },
  {
   "cell_type": "markdown",
   "metadata": {},
   "source": [
    "### TP / exercice  1 : Les conditions"
   ]
  },
  {
   "cell_type": "markdown",
   "metadata": {},
   "source": [
    "Résoudre un pb de math en utilisant des variables pour représenter le prix des articles:\n",
    "J’ai un billet de 20 €, je décide de faire quelques courses, j’achète \n",
    "- 2 bouteilles de lait à 0,45 € l’unité\n",
    "- 3 bouteilles de cidre brute à 3,85 € l’unité\n",
    "- 1 paquet de farine à 0,9 €\n",
    "- 1 paquet de beurre à 0,77 €\n",
    "- 1 pot de nutella à 1,87 €\n",
    "\n",
    "Combien me restera t il ?\n",
    "\n",
    "Si le total est > 20 € \n",
    "\n",
    "==> Vous n'avez pas assez d'argent pour payer\n",
    "\n",
    "Sinon\n",
    "\n",
    "==> Il vous reste : (le resultat de la soustraction 20€ - le prix des courses)"
   ]
  },
  {
   "cell_type": "code",
   "execution_count": 2,
   "metadata": {},
   "outputs": [
    {
     "name": "stdout",
     "output_type": "stream",
     "text": [
      "Il nous reste : 7.8 €\n"
     ]
    }
   ],
   "source": [
    "# J'initialise mes variables\n",
    "lait=0.45\n",
    "cidre_brut=3.8545345345324\n",
    "farine=0.95234242545345\n",
    "beurre=0.77\n",
    "nutella=1.87\n",
    "argent=20\n",
    "# J'écris ma formule, celle tirée de l'ennoncé\n",
    "course=2*lait+2*cidre_brut+farine+beurre+nutella\n",
    "# Je fais mon test attention aux espaces et au \":\" !!!\n",
    "if course > argent :\n",
    "    print(\"Nous n'avons pas assez d'argent\")\n",
    "else:\n",
    "    # J'ai introduit une petite fonction native \"round\" round(nombre à arrondir,nb de chiffre après la virgule))\n",
    "    print(\"Il nous reste : {} €\".format(round(argent-course,1)))"
   ]
  },
  {
   "cell_type": "markdown",
   "metadata": {},
   "source": [
    "Jouez un peu avec la valeur des variables pour modifier les données de sortie\n"
   ]
  },
  {
   "cell_type": "code",
   "execution_count": null,
   "metadata": {},
   "outputs": [],
   "source": []
  },
  {
   "cell_type": "markdown",
   "metadata": {},
   "source": [
    "L'idée ici est de pouvoir automatiser cette petite fonction.\n",
    "\n",
    "Imagine maintenant que tu puisses proposer à un utilisateur de renseigner le montant de son porte feuille"
   ]
  },
  {
   "cell_type": "code",
   "execution_count": null,
   "metadata": {},
   "outputs": [],
   "source": []
  },
  {
   "cell_type": "code",
   "execution_count": null,
   "metadata": {},
   "outputs": [],
   "source": [
    "\n",
    "# J'initialise mes variables\n",
    "lait=0.45\n",
    "cidre_brut=3.8zzz5\n",
    "farine=0.9\n",
    "beurre=0.77\n",
    "nutella=1.87\n",
    "\n",
    "\n",
    "# Attention, ici j'impose le format du champ renseigné par l'utilisateur\n",
    "argent=float(input(\"Combien d'argent as tu dans ton porte feuille ? \"))\n",
    "lait=float(input(\"Combien coûte une bouteille de lait ? \"))\n",
    "\n",
    "# J'ecris ma formule celle tirée de l'ennoncé\n",
    "course=2*lait+3*cidre_brut+farine+beurre+nutella\n",
    "# Je fais mon test attention aux espaces et au \":\" !!!\n",
    "if course > argent :\n",
    "    print(\"Nous n'avons pas assez d'argent\")\n",
    "else:\n",
    "    # J'ai introduit une petite fonction native \"round\" round(nombre à arrondir,nb de chiffre après la virgule))\n",
    "    print(\"Il nous reste : {} €\".format(round(argent-course,1)))"
   ]
  },
  {
   "cell_type": "markdown",
   "metadata": {},
   "source": [
    "Essaie de faire la meme chose avec les autres variables.\n",
    "\n",
    "Par exemple: lait=float(input(\"Combien coûte une bouteille de lait ? \"))"
   ]
  },
  {
   "cell_type": "code",
   "execution_count": null,
   "metadata": {},
   "outputs": [],
   "source": [
    "\n"
   ]
  },
  {
   "cell_type": "markdown",
   "metadata": {},
   "source": [
    "Voilà un exemple assez simple pour comprendre comment recuperer les informations renseignées par un utilisateur et les utiliser dans notre algorithme.\n",
    "\n",
    "On peut tout faire avec python !"
   ]
  },
  {
   "cell_type": "markdown",
   "metadata": {},
   "source": [
    "# Les conditions"
   ]
  },
  {
   "cell_type": "markdown",
   "metadata": {},
   "source": [
    "Cette notion est l'une des plus importante en programmation. L'idée est de dire que si telle variable a telle valeur alors faire cela sinon ceci.\n"
   ]
  },
  {
   "cell_type": "code",
   "execution_count": 4,
   "metadata": {},
   "outputs": [
    {
     "name": "stdout",
     "output_type": "stream",
     "text": [
      "vous avez assez d'argent\n"
     ]
    }
   ],
   "source": [
    "course=30\n",
    "argent=40\n",
    "\n",
    "if course > argent :\n",
    "    print(\"Nous n'avons pas assez d'argent\")\n",
    "else:\n",
    "    print(\"vous avez assez d'argent\")\n"
   ]
  },
  {
   "cell_type": "code",
   "execution_count": 5,
   "metadata": {},
   "outputs": [
    {
     "name": "stdout",
     "output_type": "stream",
     "text": [
      "Nous n'avons plus d'argent\n"
     ]
    }
   ],
   "source": [
    "course=40\n",
    "argent=40\n",
    "\n",
    "if course == argent :\n",
    "    print(\"Nous n'avons plus d'argent\")"
   ]
  },
  {
   "cell_type": "code",
   "execution_count": 6,
   "metadata": {},
   "outputs": [
    {
     "name": "stdout",
     "output_type": "stream",
     "text": [
      "Il nous reste plein d'argent !\n"
     ]
    }
   ],
   "source": [
    "course=40\n",
    "argent=50\n",
    "\n",
    "if course < argent :\n",
    "    print(\"Il nous reste plein d'argent !\")"
   ]
  },
  {
   "cell_type": "markdown",
   "metadata": {},
   "source": [
    "Il est possible de comparer des éléments:\n",
    "\n",
    "==      égal à \n",
    "\n",
    "!=      différent de (fonctionne aussi avec )\n",
    "\n",
    "'>       strictement supérieur à \n",
    "\n",
    "'>=      supérieur ou égal à\n",
    "\n",
    "<       strictement inférieur à \n",
    "\n",
    "<=      inférieur ou égal à"
   ]
  },
  {
   "cell_type": "markdown",
   "metadata": {},
   "source": [
    "Il est possible de donner des instructions quelques soient les choix possibles avec le mot clé \"else\" ."
   ]
  },
  {
   "cell_type": "code",
   "execution_count": 7,
   "metadata": {},
   "outputs": [
    {
     "name": "stdout",
     "output_type": "stream",
     "text": [
      "Il nous reste : 20 €\n"
     ]
    }
   ],
   "source": [
    "course=20\n",
    "argent=40\n",
    "\n",
    "if course > argent :\n",
    "    print(\"Nous n'avons pas assez d'argent\")\n",
    "else:\n",
    "    # J'ai introduit une petite fonction native \"round\" round(nombre à arrondir,nb de chiffre après la virgule))\n",
    "    print(\"Il nous reste : {} €\".format(round(argent-course,1)))"
   ]
  },
  {
   "cell_type": "markdown",
   "metadata": {},
   "source": [
    "On peut egalement faire un \"combo\" de if / else pour attraper toutes les possibilités"
   ]
  },
  {
   "cell_type": "code",
   "execution_count": 8,
   "metadata": {},
   "outputs": [
    {
     "name": "stdout",
     "output_type": "stream",
     "text": [
      "Il nous reste : 10 €\n"
     ]
    }
   ],
   "source": [
    "course=30\n",
    "argent=40\n",
    "\n",
    "if course > argent :\n",
    "    print(\"Nous n'avons pas assez d'argent\")\n",
    "else :\n",
    "    if course < argent :\n",
    "        # J'ai introduit une petite fonction native \"round\" round(nombre à arrondir,nb de chiffre après la virgule))\n",
    "        print(\"Il nous reste : {} €\".format(round(argent-course,1)))\n",
    "    else:\n",
    "        print(\"Nous n'avons plus d'argent\")"
   ]
  },
  {
   "cell_type": "markdown",
   "metadata": {},
   "source": [
    "OU"
   ]
  },
  {
   "cell_type": "code",
   "execution_count": 9,
   "metadata": {},
   "outputs": [
    {
     "name": "stdout",
     "output_type": "stream",
     "text": [
      "Nous n'avons pas assez d'argent\n"
     ]
    }
   ],
   "source": [
    "course=50\n",
    "argent=40\n",
    "\n",
    "if course > argent :\n",
    "    print(\"Nous n'avons pas assez d'argent\")\n",
    "elif course < argent :\n",
    "    # J'ai introduit une petite fonction native \"round\" round(nombre à arrondir,nb de chiffre après la virgule))\n",
    "    print(\"Il nous reste : {} €\".format(round(argent-course,1)))\n",
    "else:\n",
    "    print(\"Nous n'avons plus d'argent\")"
   ]
  },
  {
   "cell_type": "markdown",
   "metadata": {},
   "source": [
    "Dans ce precedent exercice, nous avions une seule condition. Dans la réalité, il faut pourvoir jongler avec plusieurs conditions\n",
    "\n",
    "Il est possible d'affiner une condition avec les mots clé AND qui signifie \" ET \" et OR qui signifie \" OU \".\n",
    "\n",
    "Nous allons ainsi pouvoir ajouter des contraintes."
   ]
  },
  {
   "cell_type": "markdown",
   "metadata": {},
   "source": [
    "Modifie les valeurs de la variable v pour faire apparaite True (= Vrai) dans le test avec \"and\" et False (= Faux) dans le test avec or"
   ]
  },
  {
   "cell_type": "code",
   "execution_count": null,
   "metadata": {},
   "outputs": [],
   "source": [
    "v = 1\n",
    "v > 5 and v < 10 and type(v)== int "
   ]
  },
  {
   "cell_type": "code",
   "execution_count": null,
   "metadata": {},
   "outputs": [],
   "source": [
    "v = 1\n",
    "v > 15 or v < 10"
   ]
  },
  {
   "cell_type": "markdown",
   "metadata": {},
   "source": [
    "Essayer de comprendre le fonctionnement du And et du Or, demandez autour de vous ou appelez moi.\n",
    "\n",
    "Sinon, j'ai une derniere idée, vous pouvez jouer avec les valeurs des variables suivantes pour bien comprendre le fonctionnement de ces deux opérateurs logiques"
   ]
  },
  {
   "cell_type": "code",
   "execution_count": null,
   "metadata": {},
   "outputs": [],
   "source": [
    "# J'ai compris le \"et\" je met donc la variable à True\n",
    "et=False\n",
    "# J'ai pas compris le \"ou\" je met la variable à False\n",
    "ou=False\n",
    "\n",
    "# J'ai déjà demandé à un collegue, je met la varible à True\n",
    "collegue=False\n",
    "\n",
    "# Le programme ci dessous va vous dire comment faire\n",
    "\n",
    "if et and ou:\n",
    "    print('ok tu as tout compris, passes à la suite')\n",
    "elif collegue:\n",
    "    print('ok tu peux demander à David')\n",
    "else:\n",
    "    print('il te manque un truc demandes à un collegue')\n"
   ]
  },
  {
   "cell_type": "code",
   "execution_count": null,
   "metadata": {},
   "outputs": [],
   "source": [
    "recherche='David'\n",
    "prenom='Ahriane'\n",
    "\n",
    "if recherche == prenom :\n",
    "    print(\"C'est bien mon prenom\")\n",
    "else:\n",
    "    print(\"ce n'est pas moi\")\n",
    "    \n",
    "    \n",
    "    \n"
   ]
  },
  {
   "cell_type": "markdown",
   "metadata": {},
   "source": [
    "Imaginons que nous avions un script qui serait allé chercher des informations et les auraient rangées dans une liste qui s'appelle \"recherche\".\n",
    "\n",
    "Nous allons regarder tous les elements de cette liste et réaliser le test précédent"
   ]
  },
  {
   "cell_type": "code",
   "execution_count": 20,
   "metadata": {},
   "outputs": [
    {
     "name": "stdout",
     "output_type": "stream",
     "text": [
      "ce n'est pas moi  Steven 0\n",
      "ce n'est pas moi  Oumar 1\n",
      "ce n'est pas moi  Elise 2\n",
      "ce n'est pas moi  Fred 3\n",
      "ce n'est pas moi  David 4\n",
      "C'est bien mon prenom  Mariana 5\n",
      "ce n'est pas moi  Soulaïma 6\n",
      "ce n'est pas moi  Lochlean 7\n",
      "ce n'est pas moi  Drogba 8\n",
      "ce n'est pas moi  Alain 9\n"
     ]
    }
   ],
   "source": [
    "recherche=['Steven','Oumar','Elise','Fred','David','Mariana','Soulaïma','Lochlean','Drogba','Alain']\n",
    "\n",
    "i=0\n",
    "\n",
    "prenom='Mariana'\n",
    "for elem in recherche:\n",
    "    if elem == prenom :\n",
    "        print(\"C'est bien mon prenom \",elem,i)\n",
    "    else:\n",
    "        print(\"ce n'est pas moi \",elem,i)\n",
    "    i=i+1"
   ]
  },
  {
   "cell_type": "code",
   "execution_count": 21,
   "metadata": {},
   "outputs": [
    {
     "name": "stdout",
     "output_type": "stream",
     "text": [
      "Mariana\n"
     ]
    }
   ],
   "source": [
    "print(recherche[5])"
   ]
  },
  {
   "cell_type": "markdown",
   "metadata": {},
   "source": [
    "En reprenant le bloc de code précédent,\n",
    "\n",
    "Ajouter un deuxieme prenom à rechercher. Ce sera bien vous si l'une ou l'autre valeur de vos deux variables de recherche est trouvée. \n",
    "\n",
    "Utilisez un \"or\" avec une deuxieme condition par exemple :\n",
    "elem == prenom1 or elem == prenom2"
   ]
  },
  {
   "cell_type": "code",
   "execution_count": 22,
   "metadata": {},
   "outputs": [
    {
     "name": "stdout",
     "output_type": "stream",
     "text": [
      "C'est bien mon prenom  Steven 0\n",
      "ce n'est pas moi  Oumar 1\n",
      "C'est bien mon prenom  Elise 2\n",
      "ce n'est pas moi  Fred 3\n",
      "ce n'est pas moi  David 4\n",
      "ce n'est pas moi  Mariana 5\n",
      "ce n'est pas moi  Soulaïma 6\n",
      "ce n'est pas moi  Lochlean 7\n",
      "ce n'est pas moi  Drogba 8\n",
      "ce n'est pas moi  Alain 9\n"
     ]
    }
   ],
   "source": [
    "recherche=['Steven','Oumar','Elise','Fred','David','Mariana','Soulaïma','Lochlean','Drogba','Alain']\n",
    "\n",
    "i=0\n",
    "\n",
    "prenom='Steven'\n",
    "prenom2='Elise'\n",
    "for elem in recherche:\n",
    "    if elem == prenom or elem == prenom2:\n",
    "        print(\"C'est bien mon prenom \",elem,i)\n",
    "    else:\n",
    "        print(\"ce n'est pas moi \",elem,i)\n",
    "    i=i+1"
   ]
  },
  {
   "cell_type": "code",
   "execution_count": null,
   "metadata": {},
   "outputs": [],
   "source": []
  }
 ],
 "metadata": {
  "kernelspec": {
   "display_name": "Python 3",
   "language": "python",
   "name": "python3"
  },
  "language_info": {
   "codemirror_mode": {
    "name": "ipython",
    "version": 3
   },
   "file_extension": ".py",
   "mimetype": "text/x-python",
   "name": "python",
   "nbconvert_exporter": "python",
   "pygments_lexer": "ipython3",
   "version": "3.7.6"
  }
 },
 "nbformat": 4,
 "nbformat_minor": 2
}
